{
 "cells": [
  {
   "cell_type": "code",
   "execution_count": 20,
   "id": "4359b3be",
   "metadata": {},
   "outputs": [],
   "source": [
    "from pyspark.sql import SparkSession"
   ]
  },
  {
   "cell_type": "code",
   "execution_count": 21,
   "id": "9e5dbf88",
   "metadata": {},
   "outputs": [
    {
     "name": "stdout",
     "output_type": "stream",
     "text": [
      "22/10/24 18:32:57 WARN SparkSession: Using an existing Spark session; only runtime SQL configurations will take effect.\n"
     ]
    }
   ],
   "source": [
    "spark = SparkSession \\\n",
    "        .builder \\\n",
    "        .appName(\"Here again Jaime\") \\\n",
    "        .master(\"local[*]\") \\\n",
    "        .enableHiveSupport() \\\n",
    "        .getOrCreate()"
   ]
  },
  {
   "cell_type": "code",
   "execution_count": 22,
   "id": "07686b9e",
   "metadata": {},
   "outputs": [
    {
     "name": "stdout",
     "output_type": "stream",
     "text": [
      "[1, 2, 3, 4, 5]\n"
     ]
    }
   ],
   "source": [
    "py_number_list = list(range(1,6))\n",
    "print(py_number_list)"
   ]
  },
  {
   "cell_type": "code",
   "execution_count": 24,
   "id": "1bb78edf",
   "metadata": {},
   "outputs": [],
   "source": [
    "number_rdd = spark.sparkContext.parallelize(py_number_list, 3)"
   ]
  },
  {
   "cell_type": "code",
   "execution_count": 26,
   "id": "e4f23a11",
   "metadata": {
    "scrolled": true
   },
   "outputs": [
    {
     "data": {
      "text/plain": [
       "ParallelCollectionRDD[3] at readRDDFromFile at PythonRDD.scala:274"
      ]
     },
     "execution_count": 26,
     "metadata": {},
     "output_type": "execute_result"
    }
   ],
   "source": [
    "number_rdd"
   ]
  },
  {
   "cell_type": "code",
   "execution_count": 28,
   "id": "538a1f02",
   "metadata": {},
   "outputs": [],
   "source": [
    " number_even_rdd = number_rdd.filter(lambda n: n % 2 == 0)"
   ]
  },
  {
   "cell_type": "code",
   "execution_count": 29,
   "id": "c1dfa8de",
   "metadata": {
    "scrolled": true
   },
   "outputs": [
    {
     "name": "stdout",
     "output_type": "stream",
     "text": [
      "[2, 4]\n"
     ]
    }
   ],
   "source": [
    "print(number_even_rdd.collect())"
   ]
  },
  {
   "cell_type": "code",
   "execution_count": 31,
   "id": "fe9d16d3",
   "metadata": {},
   "outputs": [
    {
     "name": "stdout",
     "output_type": "stream",
     "text": [
      "['Arun', 'Arvind', 'Arjun', 'Anna']\n"
     ]
    }
   ],
   "source": [
    "py_str_list = [\"Arun\", \"Arvind\", \"Arjun\", \"Anna\"]\n",
    "print(py_str_list)"
   ]
  },
  {
   "cell_type": "code",
   "execution_count": 33,
   "id": "91acd261",
   "metadata": {},
   "outputs": [],
   "source": [
    "str_rdd = spark.sparkContext.parallelize(py_str_list, 2)"
   ]
  },
  {
   "cell_type": "code",
   "execution_count": 34,
   "id": "8f896268",
   "metadata": {
    "scrolled": true
   },
   "outputs": [
    {
     "name": "stdout",
     "output_type": "stream",
     "text": [
      "['Arun', 'Arvind', 'Arjun']\n"
     ]
    }
   ],
   "source": [
    "str_rdd_result = str_rdd.filter(lambda name: 'r' in name).collect()\n",
    "print(str_rdd_result)"
   ]
  },
  {
   "cell_type": "code",
   "execution_count": 56,
   "id": "47e3344f",
   "metadata": {},
   "outputs": [],
   "source": [
    "input_file_path = \"./datamaking_pyspark_demo/tech.txt\""
   ]
  },
  {
   "cell_type": "code",
   "execution_count": 57,
   "id": "7b240454",
   "metadata": {
    "scrolled": true
   },
   "outputs": [
    {
     "name": "stdout",
     "output_type": "stream",
     "text": [
      "./datamaking_pyspark_demo/tech.txt\n"
     ]
    }
   ],
   "source": [
    "print(input_file_path)"
   ]
  },
  {
   "cell_type": "code",
   "execution_count": 62,
   "id": "0f55a0cb",
   "metadata": {},
   "outputs": [],
   "source": [
    "tech_rdd = spark.sparkContext.textFile(input_file_path)"
   ]
  },
  {
   "cell_type": "code",
   "execution_count": 63,
   "id": "431b8fc3",
   "metadata": {},
   "outputs": [
    {
     "data": {
      "text/plain": [
       "['Spark', 'HADOOP', 'SparkML', 'SparkR']"
      ]
     },
     "execution_count": 63,
     "metadata": {},
     "output_type": "execute_result"
    }
   ],
   "source": [
    "tech_rdd.collect()"
   ]
  },
  {
   "cell_type": "code",
   "execution_count": 64,
   "id": "eec52360",
   "metadata": {},
   "outputs": [],
   "source": [
    "tech_lower_rdd = tech_rdd.filter(lambda ele: 'park' in ele)"
   ]
  },
  {
   "cell_type": "code",
   "execution_count": 65,
   "id": "b2aee8e3",
   "metadata": {},
   "outputs": [],
   "source": [
    "tech_lower_rdd_list = tech_lower_rdd.collect()"
   ]
  },
  {
   "cell_type": "code",
   "execution_count": 66,
   "id": "7a412677",
   "metadata": {},
   "outputs": [
    {
     "data": {
      "text/plain": [
       "['Spark', 'SparkML', 'SparkR']"
      ]
     },
     "execution_count": 66,
     "metadata": {},
     "output_type": "execute_result"
    }
   ],
   "source": [
    "tech_lower_rdd_list "
   ]
  },
  {
   "cell_type": "code",
   "execution_count": 67,
   "id": "463b99de",
   "metadata": {},
   "outputs": [
    {
     "name": "stdout",
     "output_type": "stream",
     "text": [
      "Spark\n",
      "SparkML\n",
      "SparkR\n"
     ]
    }
   ],
   "source": [
    "for element in tech_lower_rdd_list:\n",
    "        print(element)"
   ]
  }
 ],
 "metadata": {
  "kernelspec": {
   "display_name": "Python 3 (ipykernel)",
   "language": "python",
   "name": "python3"
  },
  "language_info": {
   "codemirror_mode": {
    "name": "ipython",
    "version": 3
   },
   "file_extension": ".py",
   "mimetype": "text/x-python",
   "name": "python",
   "nbconvert_exporter": "python",
   "pygments_lexer": "ipython3",
   "version": "3.10.6"
  }
 },
 "nbformat": 4,
 "nbformat_minor": 5
}
